{
 "cells": [
  {
   "cell_type": "code",
   "execution_count": 1,
   "metadata": {
    "scrolled": true
   },
   "outputs": [
    {
     "name": "stderr",
     "output_type": "stream",
     "text": [
      "/Users/shogonakazaato/.pyenv/versions/3.7.4/lib/python3.7/site-packages/pandas/compat/__init__.py:117: UserWarning: Could not import the lzma module. Your installed Python is incomplete. Attempting to use lzma compression will result in a RuntimeError.\n",
      "  warnings.warn(msg)\n"
     ]
    }
   ],
   "source": [
    "from selenium import webdriver\n",
    "import time\n",
    "import csv\n",
    "\n",
    "import pandas as pd\n",
    "from PIL import Image\n",
    "import tempfile\n",
    "import os\n",
    "from selenium.common.exceptions import NoSuchElementException\n",
    "from selenium.webdriver.common.by import By\n",
    "from selenium.common.exceptions import NoSuchElementException  \n",
    "import shutil\n",
    "\n",
    "    "
   ]
  },
  {
   "cell_type": "code",
   "execution_count": 2,
   "metadata": {},
   "outputs": [],
   "source": [
    "driver_path=\"/Users/okamotochiaki/PycharmProjects/fiby2/chromedriver\""
   ]
  },
  {
   "cell_type": "code",
   "execution_count": 3,
   "metadata": {},
   "outputs": [],
   "source": [
    "def get_driver():\n",
    "    return webdriver.Chrome(driver_path)\n",
    "\n",
    "def scraper(driver, category, lastpage, parameter = None):\n",
    "    if parameter is None:\n",
    "        parameter = []\n",
    "    base_url = \"https://baseconnect.in/companies/category\"\n",
    "    time_sleep =2\n",
    "\n",
    "    kanji_url_lists=[]\n",
    "    url_lists=[]\n",
    "    company_name_lists=[]\n",
    "    phase_1_failure_page_list=[]\n",
    "    phase_2_failure_page_list=[]\n",
    "\n",
    "    for page in range(1, lastpage + 1):\n",
    "        query = '&'.join(parameter)\n",
    "        kanji_url= \"{base_url}/{category}?page={page}&{query}\".format(base_url=base_url, category=category, page=page, query=query)\n",
    "        kanji_url_lists.append(kanji_url)\n",
    "\n",
    "    for kanji_url in kanji_url_lists:\n",
    "        try:\n",
    "            driver.get(kanji_url)\n",
    "            time.sleep(time_sleep)\n",
    "            search=[]\n",
    "            search=driver.find_elements_by_xpath('//h4/a')\n",
    "\n",
    "            for ii in search:\n",
    "                try:\n",
    "                    company_name=ii.get_attribute('.')\n",
    "                    company_page_link=ii.get_attribute('href')\n",
    "                    url_lists.append(company_page_link)\n",
    "                    company_name_lists.append(company_name)\n",
    "                except NoSuchElementException:\n",
    "                    phase_2_failure_page_list.append(kanji_url)\n",
    "        except NoSuchElementException:\n",
    "            phase_1_failure_page_list.append(kanji_url)\n",
    "\n",
    "            #     except NoSuchElementException:\n",
    "            failure_page_list.append(kanji_url)\n",
    "            time.sleep(time_sleep)\n",
    "\n",
    "    hp_lists=[]\n",
    "    tag_lists=[]\n",
    "    target_lists=[]\n",
    "    phase_3_failure_page_lists=[]\n",
    "    company_name_lists=[]\n",
    "    count = 0\n",
    "    for link in url_lists:\n",
    "        try:\n",
    "            time.sleep(time_sleep)\n",
    "            contact_url = get_detail_page(driver, link)\n",
    "            if contact_url is not None:\n",
    "                hp_lists.append(get_detail_page(driver, link))\n",
    "\n",
    "            #         try:\n",
    "    #             industry=driver.find_element_by_xpath('//div[1]/div[1]/div[3]/ul/li/a')\n",
    "    #             industry_tag=company_hp.get_attribute('.')\n",
    "    #             tag_lists.append(industry_tag)\n",
    "    #         except:\n",
    "    #             target_list.append(company_hp_link)\n",
    "\n",
    "        except NoSuchElementException:\n",
    "            phase_3_failure_page_lists.append(link)\n",
    "\n",
    "    return pd.DataFrame({'url': hp_lists})\n",
    "\n",
    "\n",
    "def get_detail_page(driver, url):\n",
    "    try:\n",
    "        driver.get(url)\n",
    "        company_hp=driver.find_element_by_css_selector('.node__contact p:last-child a')\n",
    "        return company_hp.get_attribute('href')\n",
    "\n",
    "    except NoSuchElementException:\n",
    "        print(\"以下のページでエラーが起きました.\\n{}\".format(url))\n",
    "        return None"
   ]
  },
  {
   "cell_type": "code",
   "execution_count": 4,
   "metadata": {},
   "outputs": [
    {
     "ename": "NoSuchWindowException",
     "evalue": "Message: no such window: window was already closed\n  (Session info: chrome=85.0.4183.102)\n",
     "output_type": "error",
     "traceback": [
      "\u001B[0;31m---------------------------------------------------------------------------\u001B[0m",
      "\u001B[0;31mNoSuchWindowException\u001B[0m                     Traceback (most recent call last)",
      "\u001B[0;32m<ipython-input-4-94c4f0d6ebd6>\u001B[0m in \u001B[0;36m<module>\u001B[0;34m\u001B[0m\n\u001B[1;32m     61\u001B[0m \u001B[0mto_csv_df\u001B[0m \u001B[0;34m=\u001B[0m \u001B[0mpd\u001B[0m\u001B[0;34m.\u001B[0m\u001B[0mDataFrame\u001B[0m\u001B[0;34m(\u001B[0m\u001B[0;34m)\u001B[0m\u001B[0;34m\u001B[0m\u001B[0;34m\u001B[0m\u001B[0m\n\u001B[1;32m     62\u001B[0m \u001B[0;32mfor\u001B[0m \u001B[0mtarget\u001B[0m \u001B[0;32min\u001B[0m \u001B[0mtargets\u001B[0m\u001B[0;34m:\u001B[0m\u001B[0;34m\u001B[0m\u001B[0;34m\u001B[0m\u001B[0m\n\u001B[0;32m---> 63\u001B[0;31m     \u001B[0mdf\u001B[0m \u001B[0;34m=\u001B[0m \u001B[0mscraper\u001B[0m\u001B[0;34m(\u001B[0m\u001B[0mdriver\u001B[0m\u001B[0;34m,\u001B[0m \u001B[0mtarget\u001B[0m\u001B[0;34m[\u001B[0m\u001B[0;34m'category'\u001B[0m\u001B[0;34m]\u001B[0m\u001B[0;34m,\u001B[0m \u001B[0mtarget\u001B[0m\u001B[0;34m[\u001B[0m\u001B[0;34m'last_page'\u001B[0m\u001B[0;34m]\u001B[0m\u001B[0;34m,\u001B[0m \u001B[0mparameter\u001B[0m\u001B[0;34m=\u001B[0m\u001B[0mtarget\u001B[0m\u001B[0;34m[\u001B[0m\u001B[0;34m'parameter'\u001B[0m\u001B[0;34m]\u001B[0m\u001B[0;34m)\u001B[0m\u001B[0;34m\u001B[0m\u001B[0;34m\u001B[0m\u001B[0m\n\u001B[0m\u001B[1;32m     64\u001B[0m     \u001B[0mdf\u001B[0m\u001B[0;34m[\u001B[0m\u001B[0;34m'title'\u001B[0m\u001B[0;34m]\u001B[0m \u001B[0;34m=\u001B[0m \u001B[0mtarget\u001B[0m\u001B[0;34m[\u001B[0m\u001B[0;34m'title'\u001B[0m\u001B[0;34m]\u001B[0m\u001B[0;34m\u001B[0m\u001B[0;34m\u001B[0m\u001B[0m\n\u001B[1;32m     65\u001B[0m     \u001B[0mto_csv_df\u001B[0m \u001B[0;34m=\u001B[0m \u001B[0mpd\u001B[0m\u001B[0;34m.\u001B[0m\u001B[0mconcat\u001B[0m\u001B[0;34m(\u001B[0m\u001B[0;34m[\u001B[0m\u001B[0mto_csv_df\u001B[0m\u001B[0;34m,\u001B[0m \u001B[0mdf\u001B[0m\u001B[0;34m]\u001B[0m\u001B[0;34m)\u001B[0m\u001B[0;34m\u001B[0m\u001B[0;34m\u001B[0m\u001B[0m\n",
      "\u001B[0;32m<ipython-input-3-c60f50c96e50>\u001B[0m in \u001B[0;36mscraper\u001B[0;34m(driver, category, lastpage, parameter)\u001B[0m\n\u001B[1;32m     24\u001B[0m             \u001B[0mtime\u001B[0m\u001B[0;34m.\u001B[0m\u001B[0msleep\u001B[0m\u001B[0;34m(\u001B[0m\u001B[0mtime_sleep\u001B[0m\u001B[0;34m)\u001B[0m\u001B[0;34m\u001B[0m\u001B[0;34m\u001B[0m\u001B[0m\n\u001B[1;32m     25\u001B[0m             \u001B[0msearch\u001B[0m\u001B[0;34m=\u001B[0m\u001B[0;34m[\u001B[0m\u001B[0;34m]\u001B[0m\u001B[0;34m\u001B[0m\u001B[0;34m\u001B[0m\u001B[0m\n\u001B[0;32m---> 26\u001B[0;31m             \u001B[0msearch\u001B[0m\u001B[0;34m=\u001B[0m\u001B[0mdriver\u001B[0m\u001B[0;34m.\u001B[0m\u001B[0mfind_elements_by_xpath\u001B[0m\u001B[0;34m(\u001B[0m\u001B[0;34m'//h4/a'\u001B[0m\u001B[0;34m)\u001B[0m\u001B[0;34m\u001B[0m\u001B[0;34m\u001B[0m\u001B[0m\n\u001B[0m\u001B[1;32m     27\u001B[0m \u001B[0;34m\u001B[0m\u001B[0m\n\u001B[1;32m     28\u001B[0m             \u001B[0;32mfor\u001B[0m \u001B[0mii\u001B[0m \u001B[0;32min\u001B[0m \u001B[0msearch\u001B[0m\u001B[0;34m:\u001B[0m\u001B[0;34m\u001B[0m\u001B[0;34m\u001B[0m\u001B[0m\n",
      "\u001B[0;32m~/.pyenv/versions/3.7.4/lib/python3.7/site-packages/selenium/webdriver/remote/webdriver.py\u001B[0m in \u001B[0;36mfind_elements_by_xpath\u001B[0;34m(self, xpath)\u001B[0m\n\u001B[1;32m    408\u001B[0m             \u001B[0melements\u001B[0m \u001B[0;34m=\u001B[0m \u001B[0mdriver\u001B[0m\u001B[0;34m.\u001B[0m\u001B[0mfind_elements_by_xpath\u001B[0m\u001B[0;34m(\u001B[0m\u001B[0;34m\"//div[contains(@class, 'foo')]\"\u001B[0m\u001B[0;34m)\u001B[0m\u001B[0;34m\u001B[0m\u001B[0;34m\u001B[0m\u001B[0m\n\u001B[1;32m    409\u001B[0m         \"\"\"\n\u001B[0;32m--> 410\u001B[0;31m         \u001B[0;32mreturn\u001B[0m \u001B[0mself\u001B[0m\u001B[0;34m.\u001B[0m\u001B[0mfind_elements\u001B[0m\u001B[0;34m(\u001B[0m\u001B[0mby\u001B[0m\u001B[0;34m=\u001B[0m\u001B[0mBy\u001B[0m\u001B[0;34m.\u001B[0m\u001B[0mXPATH\u001B[0m\u001B[0;34m,\u001B[0m \u001B[0mvalue\u001B[0m\u001B[0;34m=\u001B[0m\u001B[0mxpath\u001B[0m\u001B[0;34m)\u001B[0m\u001B[0;34m\u001B[0m\u001B[0;34m\u001B[0m\u001B[0m\n\u001B[0m\u001B[1;32m    411\u001B[0m \u001B[0;34m\u001B[0m\u001B[0m\n\u001B[1;32m    412\u001B[0m     \u001B[0;32mdef\u001B[0m \u001B[0mfind_element_by_link_text\u001B[0m\u001B[0;34m(\u001B[0m\u001B[0mself\u001B[0m\u001B[0;34m,\u001B[0m \u001B[0mlink_text\u001B[0m\u001B[0;34m)\u001B[0m\u001B[0;34m:\u001B[0m\u001B[0;34m\u001B[0m\u001B[0;34m\u001B[0m\u001B[0m\n",
      "\u001B[0;32m~/.pyenv/versions/3.7.4/lib/python3.7/site-packages/selenium/webdriver/remote/webdriver.py\u001B[0m in \u001B[0;36mfind_elements\u001B[0;34m(self, by, value)\u001B[0m\n\u001B[1;32m   1005\u001B[0m         return self.execute(Command.FIND_ELEMENTS, {\n\u001B[1;32m   1006\u001B[0m             \u001B[0;34m'using'\u001B[0m\u001B[0;34m:\u001B[0m \u001B[0mby\u001B[0m\u001B[0;34m,\u001B[0m\u001B[0;34m\u001B[0m\u001B[0;34m\u001B[0m\u001B[0m\n\u001B[0;32m-> 1007\u001B[0;31m             'value': value})['value'] or []\n\u001B[0m\u001B[1;32m   1008\u001B[0m \u001B[0;34m\u001B[0m\u001B[0m\n\u001B[1;32m   1009\u001B[0m     \u001B[0;34m@\u001B[0m\u001B[0mproperty\u001B[0m\u001B[0;34m\u001B[0m\u001B[0;34m\u001B[0m\u001B[0m\n",
      "\u001B[0;32m~/.pyenv/versions/3.7.4/lib/python3.7/site-packages/selenium/webdriver/remote/webdriver.py\u001B[0m in \u001B[0;36mexecute\u001B[0;34m(self, driver_command, params)\u001B[0m\n\u001B[1;32m    319\u001B[0m         \u001B[0mresponse\u001B[0m \u001B[0;34m=\u001B[0m \u001B[0mself\u001B[0m\u001B[0;34m.\u001B[0m\u001B[0mcommand_executor\u001B[0m\u001B[0;34m.\u001B[0m\u001B[0mexecute\u001B[0m\u001B[0;34m(\u001B[0m\u001B[0mdriver_command\u001B[0m\u001B[0;34m,\u001B[0m \u001B[0mparams\u001B[0m\u001B[0;34m)\u001B[0m\u001B[0;34m\u001B[0m\u001B[0;34m\u001B[0m\u001B[0m\n\u001B[1;32m    320\u001B[0m         \u001B[0;32mif\u001B[0m \u001B[0mresponse\u001B[0m\u001B[0;34m:\u001B[0m\u001B[0;34m\u001B[0m\u001B[0;34m\u001B[0m\u001B[0m\n\u001B[0;32m--> 321\u001B[0;31m             \u001B[0mself\u001B[0m\u001B[0;34m.\u001B[0m\u001B[0merror_handler\u001B[0m\u001B[0;34m.\u001B[0m\u001B[0mcheck_response\u001B[0m\u001B[0;34m(\u001B[0m\u001B[0mresponse\u001B[0m\u001B[0;34m)\u001B[0m\u001B[0;34m\u001B[0m\u001B[0;34m\u001B[0m\u001B[0m\n\u001B[0m\u001B[1;32m    322\u001B[0m             response['value'] = self._unwrap_value(\n\u001B[1;32m    323\u001B[0m                 response.get('value', None))\n",
      "\u001B[0;32m~/.pyenv/versions/3.7.4/lib/python3.7/site-packages/selenium/webdriver/remote/errorhandler.py\u001B[0m in \u001B[0;36mcheck_response\u001B[0;34m(self, response)\u001B[0m\n\u001B[1;32m    240\u001B[0m                 \u001B[0malert_text\u001B[0m \u001B[0;34m=\u001B[0m \u001B[0mvalue\u001B[0m\u001B[0;34m[\u001B[0m\u001B[0;34m'alert'\u001B[0m\u001B[0;34m]\u001B[0m\u001B[0;34m.\u001B[0m\u001B[0mget\u001B[0m\u001B[0;34m(\u001B[0m\u001B[0;34m'text'\u001B[0m\u001B[0;34m)\u001B[0m\u001B[0;34m\u001B[0m\u001B[0;34m\u001B[0m\u001B[0m\n\u001B[1;32m    241\u001B[0m             \u001B[0;32mraise\u001B[0m \u001B[0mexception_class\u001B[0m\u001B[0;34m(\u001B[0m\u001B[0mmessage\u001B[0m\u001B[0;34m,\u001B[0m \u001B[0mscreen\u001B[0m\u001B[0;34m,\u001B[0m \u001B[0mstacktrace\u001B[0m\u001B[0;34m,\u001B[0m \u001B[0malert_text\u001B[0m\u001B[0;34m)\u001B[0m\u001B[0;34m\u001B[0m\u001B[0;34m\u001B[0m\u001B[0m\n\u001B[0;32m--> 242\u001B[0;31m         \u001B[0;32mraise\u001B[0m \u001B[0mexception_class\u001B[0m\u001B[0;34m(\u001B[0m\u001B[0mmessage\u001B[0m\u001B[0;34m,\u001B[0m \u001B[0mscreen\u001B[0m\u001B[0;34m,\u001B[0m \u001B[0mstacktrace\u001B[0m\u001B[0;34m)\u001B[0m\u001B[0;34m\u001B[0m\u001B[0;34m\u001B[0m\u001B[0m\n\u001B[0m\u001B[1;32m    243\u001B[0m \u001B[0;34m\u001B[0m\u001B[0m\n\u001B[1;32m    244\u001B[0m     \u001B[0;32mdef\u001B[0m \u001B[0m_value_or_default\u001B[0m\u001B[0;34m(\u001B[0m\u001B[0mself\u001B[0m\u001B[0;34m,\u001B[0m \u001B[0mobj\u001B[0m\u001B[0;34m,\u001B[0m \u001B[0mkey\u001B[0m\u001B[0;34m,\u001B[0m \u001B[0mdefault\u001B[0m\u001B[0;34m)\u001B[0m\u001B[0;34m:\u001B[0m\u001B[0;34m\u001B[0m\u001B[0;34m\u001B[0m\u001B[0m\n",
      "\u001B[0;31mNoSuchWindowException\u001B[0m: Message: no such window: window was already closed\n  (Session info: chrome=85.0.4183.102)\n"
     ]
    }
   ],
   "source": [
    "#　手順\n",
    "# title部分に好きな名前(基本、業界名)\n",
    "# category部分にbase connectのcategory以降「?」以前のの文字列\n",
    "# 例えば https://baseconnect.in/companies/category/a2b5e24f-c628-44e5-a341-b6e4a6e4f0e3?employee_number_gte=50&employee_number_lte=500\n",
    "# だったらa2b5e24f-c628-44e5-a341-b6e4a6e4f0e3\n",
    "# last_pageにその業界の最終ページ\n",
    "# parameterで検索条件を指定する\n",
    "\n",
    "targets = [\n",
    "    {\n",
    "        \"title\": \"IT業界の会社(Webサービス・アプリ運営業界の会社)\",\n",
    "        \"category\": \"b1d5c1e6-7cc5-41c4-9552-28530d2c9e9c\",\n",
    "        \"last_page\": 12,\n",
    "        \"parameter\": [\"employee_number_gte=50\", \"employee_number_lte=500\", \"prefecture%5B%5D=a30ebdff-361b-42be-8372-1b0d350f48a0\"],\n",
    "    },\n",
    "    {\n",
    "        \"title\": \"IT業界の会社(クラウド・フィンテック業界の会社)\",\n",
    "        \"category\": \"578d6793-48f8-4776-906f-756a0b42f195\",\n",
    "        \"last_page\": 4,\n",
    "        \"parameter\": [\"employee_number_gte=50\", \"employee_number_lte=500\", \"prefecture%5B%5D=a30ebdff-361b-42be-8372-1b0d350f48a0\"],\n",
    "    },\n",
    "    {\n",
    "        \"title\": \"IT業界の会社(デジタルコンテンツ業界の会社)\",\n",
    "        \"category\": \"37b7583c-431d-408d-ac66-fd1a18f84c41\",\n",
    "        \"last_page\": 3,\n",
    "        \"parameter\": [\"employee_number_gte=50\",  \"employee_number_lte=500\", \"prefecture%5B%5D=a30ebdff-361b-42be-8372-1b0d350f48a0\"],\n",
    "    },\n",
    "    {\n",
    "        \"title\": \"広告業界の会社(インターネット広告代理店業界の会社)\",\n",
    "        \"category\": \"56705ce0-0fe4-40cb-9659-68f5eaa45d27\",\n",
    "        \"last_page\": 4,\n",
    "        \"parameter\": [\"employee_number_gte=50\",  \"employee_number_lte=500\", \"prefecture%5B%5D=a30ebdff-361b-42be-8372-1b0d350f48a0\"],\n",
    "    },\n",
    "    {\n",
    "        \"title\": \"ゲーム業界の会社(ソーシャルゲーム業界の会社)\",\n",
    "        \"category\": \"5e227ff5-308f-4cd8-955c-b5174189a70a\",\n",
    "        \"last_page\": 3,\n",
    "        \"parameter\": [\"employee_number_gte=50\",  \"employee_number_lte=500\", \"prefecture%5B%5D=a30ebdff-361b-42be-8372-1b0d350f48a0\"],\n",
    "    },\n",
    "    {\n",
    "        \"title\": \"ゲーム業界の会社(ゲームソフト開発業界の会社)\",\n",
    "        \"category\": \"6d8b55ed-3e28-49b7-8c05-587833d73ca9\",\n",
    "        \"last_page\": 2,\n",
    "        \"parameter\": [\"employee_number_gte=50\",  \"employee_number_lte=500\", \"prefecture%5B%5D=a30ebdff-361b-42be-8372-1b0d350f48a0\"],\n",
    "    },\n",
    "    {\n",
    "        \"title\": \"コンサルティング業界の会社(Webマーケティング業界の会社)\",\n",
    "        \"category\": \"c6b6da03-db2e-49c0-a5b3-a3923339d4d8\",\n",
    "        \"last_page\": 4,\n",
    "        \"parameter\": [\"employee_number_gte=50\",  \"employee_number_lte=500\", \"prefecture%5B%5D=a30ebdff-361b-42be-8372-1b0d350f48a0\"],\n",
    "    },\n",
    "]\n",
    "\n",
    "driver = get_driver()\n",
    "to_csv_df = pd.DataFrame()\n",
    "for target in targets:\n",
    "    df = scraper(driver, target['category'], target['last_page'], parameter=target['parameter'])\n",
    "    df['title'] = target['title']\n",
    "    to_csv_df = pd.concat([to_csv_df, df])\n",
    "\n",
    "to_csv_df.to_csv(\"it_url.csv\")"
   ]
  },
  {
   "cell_type": "code",
   "execution_count": null,
   "metadata": {
    "pycharm": {
     "name": "#%%\n"
    }
   },
   "outputs": [],
   "source": [
    "!pwd"
   ]
  }
 ],
 "metadata": {
  "kernelspec": {
   "display_name": "Python 3",
   "language": "python",
   "name": "python3"
  },
  "language_info": {
   "codemirror_mode": {
    "name": "ipython",
    "version": 3
   },
   "file_extension": ".py",
   "mimetype": "text/x-python",
   "name": "python",
   "nbconvert_exporter": "python",
   "pygments_lexer": "ipython3",
   "version": "3.8.6"
  }
 },
 "nbformat": 4,
 "nbformat_minor": 4
}